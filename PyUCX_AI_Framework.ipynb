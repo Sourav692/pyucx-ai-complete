{
  "cells": [
    {
      "cell_type": "markdown",
      "metadata": {},
      "source": [
        "# PyUCX-AI Multi-Agent Framework\n",
        "\n",
        "This notebook provides an interactive interface for running the PyUCX-AI framework to analyze Python files and plan Unity Catalog migrations.\n",
        "\n",
        "## Overview\n",
        "The framework uses multiple AI agents to:\n",
        "- Analyze Python files and lint issues\n",
        "- Create migration plans\n",
        "- Generate Unity Catalog compatible code\n",
        "- Validate and report on migrations\n"
      ]
    },
    {
      "cell_type": "markdown",
      "metadata": {},
      "source": [
        "## 1. Setup and Imports\n"
      ]
    },
    {
      "cell_type": "code",
      "execution_count": 1,
      "metadata": {},
      "outputs": [
        {
          "name": "stdout",
          "output_type": "stream",
          "text": [
            "✅ Imports completed successfully!\n"
          ]
        }
      ],
      "source": [
        "#!/usr/bin/env python3\n",
        "import sys\n",
        "import os\n",
        "import logging\n",
        "from pathlib import Path\n",
        "from typing import List, Dict, Any, Optional\n",
        "from datetime import datetime\n",
        "\n",
        "# Add the src directory to Python path\n",
        "sys.path.insert(0, os.path.join(os.path.dirname(os.path.abspath('.')), 'src'))\n",
        "\n",
        "from src.utils.logging_setup import quick_setup\n",
        "from src.utils.config_manager import ConfigManager\n",
        "from src.core.langgraph_framework import (\n",
        "    PyUCXFramework, \n",
        "    load_notebooks_from_folder,\n",
        "    load_python_files_from_folder, \n",
        "    load_lint_data_from_file,\n",
        "    save_results_to_file\n",
        ")\n",
        "\n",
        "print(\"✅ Imports completed successfully!\")\n"
      ]
    },
    {
      "cell_type": "markdown",
      "metadata": {},
      "source": [
        "## 2. Configuration Parameters\n",
        "\n",
        "Configure the framework parameters. Modify these as needed for your specific use case.\n"
      ]
    },
    {
      "cell_type": "code",
      "execution_count": 2,
      "metadata": {},
      "outputs": [
        {
          "name": "stdout",
          "output_type": "stream",
          "text": [
            "📋 Configuration set:\n",
            "  input_folder: data/sample_python_files\n",
            "  lint_file: data/lint_outputs/sample_python_scenarios.txt\n",
            "  output_file: migration_analysis_results.json\n",
            "  config_file: None\n",
            "  log_level: INFO\n",
            "  log_file: None\n",
            "  max_iterations: 200\n",
            "  thread_id: notebook-session\n",
            "  verbose: True\n"
          ]
        }
      ],
      "source": [
        "# Configuration Parameters\n",
        "CONFIG = {\n",
        "    \"input_folder\": \"data/sample_python_files\",  # Path to Python files to analyze\n",
        "    \"lint_file\": \"data/lint_outputs/sample_python_scenarios.txt\",  # UCX lint output file\n",
        "    \"output_file\": \"migration_analysis_results.json\",  # Output file for results\n",
        "    \"config_file\": None,  # Optional: Path to custom config file\n",
        "    \"log_level\": \"INFO\",  # Logging level: DEBUG, INFO, WARNING, ERROR, CRITICAL\n",
        "    \"log_file\": None,  # Optional: Path to log file (None = console only)\n",
        "    \"max_iterations\": 200,  # Maximum workflow iterations\n",
        "    \"thread_id\": \"notebook-session\",  # Thread ID for workflow execution\n",
        "    \"verbose\": True  # Enable verbose output\n",
        "}\n",
        "\n",
        "print(\"📋 Configuration set:\")\n",
        "for key, value in CONFIG.items():\n",
        "    print(f\"  {key}: {value}\")\n"
      ]
    },
    {
      "cell_type": "markdown",
      "metadata": {},
      "source": [
        "## 3. Setup Logging and Configuration\n"
      ]
    },
    {
      "cell_type": "code",
      "execution_count": 3,
      "metadata": {},
      "outputs": [
        {
          "name": "stderr",
          "output_type": "stream",
          "text": [
            "2025-09-16 10:38:40 | INFO     | src.utils.logging_setup | Logging initialized - Level: DEBUG, File: None\n",
            "2025-09-16 10:38:40 | INFO     | pyucx_ai | PyUCX-AI Framework starting...\n",
            "2025-09-16 10:38:40 | INFO     | src.utils.config_manager | Loaded environment variables from .env\n",
            "2025-09-16 10:38:40 | INFO     | src.utils.config_manager | Configuration loaded successfully\n",
            "2025-09-16 10:38:40 | DEBUG    | src.utils.config_manager | Configuration updated with 3 values\n"
          ]
        },
        {
          "name": "stdout",
          "output_type": "stream",
          "text": [
            "🔧 Logging and configuration setup completed!\n"
          ]
        }
      ],
      "source": [
        "# Setup logging\n",
        "log_level = \"DEBUG\" if CONFIG[\"verbose\"] else CONFIG[\"log_level\"]\n",
        "logger = quick_setup(log_level=log_level, log_file=CONFIG[\"log_file\"])\n",
        "logger.info(\"PyUCX-AI Framework starting...\")\n",
        "\n",
        "# Setup configuration\n",
        "if CONFIG[\"config_file\"]:\n",
        "    config = ConfigManager(config_path=CONFIG[\"config_file\"])\n",
        "else:\n",
        "    config = ConfigManager()\n",
        "\n",
        "# Override with notebook parameters\n",
        "config.update({\n",
        "    \"log_level\": CONFIG[\"log_level\"],\n",
        "    \"log_file\": CONFIG[\"log_file\"],\n",
        "    \"max_iterations\": CONFIG[\"max_iterations\"]\n",
        "})\n",
        "\n",
        "print(\"🔧 Logging and configuration setup completed!\")\n"
      ]
    },
    {
      "cell_type": "markdown",
      "metadata": {},
      "source": [
        "## 4. Validate Configuration\n"
      ]
    },
    {
      "cell_type": "code",
      "execution_count": 4,
      "metadata": {},
      "outputs": [
        {
          "name": "stderr",
          "output_type": "stream",
          "text": [
            "2025-09-16 10:38:44 | INFO     | src.utils.config_manager | Configuration validation passed\n"
          ]
        },
        {
          "name": "stdout",
          "output_type": "stream",
          "text": [
            "✅ Configuration validation passed!\n"
          ]
        }
      ],
      "source": [
        "# Validate configuration\n",
        "if not config.validate_config():\n",
        "    raise Exception(\"Configuration validation failed. Please check your settings.\")\n",
        "    \n",
        "print(\"✅ Configuration validation passed!\")\n"
      ]
    },
    {
      "cell_type": "markdown",
      "metadata": {},
      "source": [
        "## 5. Validate Input Files\n"
      ]
    },
    {
      "cell_type": "code",
      "execution_count": 5,
      "metadata": {},
      "outputs": [
        {
          "name": "stdout",
          "output_type": "stream",
          "text": [
            "✅ Input validation passed!\n"
          ]
        }
      ],
      "source": [
        "def validate_inputs(input_folder: str, lint_file: str, output_file: str) -> bool:\n",
        "    \"\"\"Validate input files and directories.\"\"\"\n",
        "    errors = []\n",
        "\n",
        "    # Check input folder\n",
        "    input_path = Path(input_folder)\n",
        "    if not input_path.exists():\n",
        "        errors.append(f\"Input folder does not exist: {input_folder}\")\n",
        "    elif not input_path.is_dir():\n",
        "        errors.append(f\"Input path is not a directory: {input_folder}\")\n",
        "    else:\n",
        "        # Check for Python files\n",
        "        python_files = list(input_path.glob(\"*.py\"))\n",
        "        if not python_files:\n",
        "            errors.append(f\"No Python files found in: {input_folder}\")\n",
        "\n",
        "    # Check lint file\n",
        "    lint_path = Path(lint_file)\n",
        "    if not lint_path.exists():\n",
        "        errors.append(f\"Lint file does not exist: {lint_file}\")\n",
        "    elif not lint_path.is_file():\n",
        "        errors.append(f\"Lint path is not a file: {lint_file}\")\n",
        "\n",
        "    # Check output directory\n",
        "    output_path = Path(output_file)\n",
        "    try:\n",
        "        output_path.parent.mkdir(parents=True, exist_ok=True)\n",
        "    except Exception as e:\n",
        "        errors.append(f\"Cannot create output directory: {e}\")\n",
        "\n",
        "    if errors:\n",
        "        print(\"❌ Validation Errors:\")\n",
        "        for error in errors:\n",
        "            print(f\"  - {error}\")\n",
        "        return False\n",
        "\n",
        "    return True\n",
        "\n",
        "# Validate inputs\n",
        "if not validate_inputs(CONFIG[\"input_folder\"], CONFIG[\"lint_file\"], CONFIG[\"output_file\"]):\n",
        "    raise Exception(\"Input validation failed!\")\n",
        "\n",
        "print(\"✅ Input validation passed!\")\n"
      ]
    },
    {
      "cell_type": "markdown",
      "metadata": {},
      "source": []
    },
    {
      "cell_type": "markdown",
      "metadata": {},
      "source": []
    },
    {
      "cell_type": "markdown",
      "metadata": {},
      "source": []
    },
    {
      "cell_type": "markdown",
      "metadata": {},
      "source": []
    }
  ],
  "metadata": {
    "kernelspec": {
      "display_name": ".venv",
      "language": "python",
      "name": "python3"
    },
    "language_info": {
      "codemirror_mode": {
        "name": "ipython",
        "version": 3
      },
      "file_extension": ".py",
      "mimetype": "text/x-python",
      "name": "python",
      "nbconvert_exporter": "python",
      "pygments_lexer": "ipython3",
      "version": "3.13.7"
    }
  },
  "nbformat": 4,
  "nbformat_minor": 2
}
