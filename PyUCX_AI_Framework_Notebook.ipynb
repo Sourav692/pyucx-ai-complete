{
 "cells": [
  {
   "cell_type": "markdown",
   "metadata": {},
   "source": [
    "# PyUCX-AI Multi-Agent Framework - Interactive Notebook\n",
    "\n",
    "This notebook provides an interactive interface for running the PyUCX-AI framework to analyze Python files and plan Unity Catalog migrations.\n",
    "\n",
    "## Overview\n",
    "The framework uses multiple AI agents to:\n",
    "- **Analyze** Python files and UCX lint issues\n",
    "- **Plan** Unity Catalog migration strategies\n",
    "- **Modify** code for compatibility\n",
    "- **Validate** migration plans\n",
    "- **Generate** Unity Catalog compatible code\n",
    "- **Report** comprehensive migration analysis\n"
   ]
  },
  {
   "cell_type": "markdown",
   "metadata": {},
   "source": [
    "## 1. Setup and Imports\n"
   ]
  },
  {
   "cell_type": "code",
   "execution_count": 18,
   "metadata": {},
   "outputs": [
    {
     "name": "stdout",
     "output_type": "stream",
     "text": [
      "✅ Successfully imported PyUCX-AI framework components\n"
     ]
    }
   ],
   "source": [
    "# Import required libraries\n",
    "import sys\n",
    "import os\n",
    "import logging\n",
    "import json\n",
    "from pathlib import Path\n",
    "from typing import List, Dict, Any, Optional\n",
    "from datetime import datetime\n",
    "\n",
    "# Add the src directory to Python path\n",
    "sys.path.insert(0, os.path.join(os.getcwd(), 'src'))\n",
    "\n",
    "# Import framework components\n",
    "try:\n",
    "    from src.utils.logging_setup import quick_setup\n",
    "    from src.utils.config_manager import ConfigManager\n",
    "    from src.core.langgraph_framework import (\n",
    "        PyUCXFramework, \n",
    "        load_notebooks_from_folder,\n",
    "        load_python_files_from_folder, \n",
    "        load_lint_data_from_file,\n",
    "        save_results_to_file\n",
    "    )\n",
    "    print(\"✅ Successfully imported PyUCX-AI framework components\")\n",
    "except ImportError as e:\n",
    "    print(f\"❌ Error importing framework components: {e}\")\n",
    "    print(\"Please ensure you're running this notebook from the project root directory\")\n"
   ]
  },
  {
   "cell_type": "markdown",
   "metadata": {},
   "source": [
    "## 2. Configuration Setup\n"
   ]
  },
  {
   "cell_type": "code",
   "execution_count": 19,
   "metadata": {},
   "outputs": [
    {
     "name": "stdout",
     "output_type": "stream",
     "text": [
      "📋 Configuration:\n",
      "  input_folder: data/sample_python_files\n",
      "  lint_file: data/lint_outputs/sample_python_scenarios.txt\n",
      "  output_file: migration_analysis_results_notebook.json\n",
      "  log_level: INFO\n",
      "  log_file: None\n",
      "  max_iterations: 200\n",
      "  thread_id: notebook-session\n",
      "  config_file: None\n",
      "  verbose: True\n"
     ]
    }
   ],
   "source": [
    "# Configuration parameters - You can modify these as needed\n",
    "CONFIG = {\n",
    "    \"input_folder\": \"data/sample_python_files\",\n",
    "    \"lint_file\": \"data/lint_outputs/sample_python_scenarios.txt\",\n",
    "    \"output_file\": \"migration_analysis_results_notebook.json\",\n",
    "    \"log_level\": \"INFO\",\n",
    "    \"log_file\": None,  # Set to a filename if you want to log to file\n",
    "    \"max_iterations\": 200,\n",
    "    \"thread_id\": \"notebook-session\",\n",
    "    \"config_file\": None,  # Path to custom config file if needed\n",
    "    \"verbose\": True\n",
    "}\n",
    "\n",
    "print(\"📋 Configuration:\")\n",
    "for key, value in CONFIG.items():\n",
    "    print(f\"  {key}: {value}\")\n"
   ]
  },
  {
   "cell_type": "markdown",
   "metadata": {},
   "source": [
    "## 3. Validation and Helper Functions\n"
   ]
  },
  {
   "cell_type": "code",
   "execution_count": 20,
   "metadata": {},
   "outputs": [],
   "source": [
    "def validate_inputs(config: Dict[str, Any]) -> bool:\n",
    "    \"\"\"Validate input parameters and files.\"\"\"\n",
    "    \n",
    "    errors = []\n",
    "\n",
    "    # Check input folder\n",
    "    input_folder = Path(config[\"input_folder\"])\n",
    "    if not input_folder.exists():\n",
    "        errors.append(f\"Input folder does not exist: {config['input_folder']}\")\n",
    "    elif not input_folder.is_dir():\n",
    "        errors.append(f\"Input path is not a directory: {config['input_folder']}\")\n",
    "    else:\n",
    "        # Check for Python files\n",
    "        python_files = list(input_folder.glob(\"*.py\"))\n",
    "        if not python_files:\n",
    "            errors.append(f\"No Python files found in: {config['input_folder']}\")\n",
    "\n",
    "    # Check lint file\n",
    "    lint_file = Path(config[\"lint_file\"])\n",
    "    if not lint_file.exists():\n",
    "        errors.append(f\"Lint file does not exist: {config['lint_file']}\")\n",
    "    elif not lint_file.is_file():\n",
    "        errors.append(f\"Lint path is not a file: {config['lint_file']}\")\n",
    "\n",
    "    if errors:\n",
    "        print(\"❌ Validation Errors:\")\n",
    "        for error in errors:\n",
    "            print(f\"  - {error}\")\n",
    "        return False\n",
    "\n",
    "    print(\"✅ Input validation passed!\")\n",
    "    return True\n",
    "\n",
    "\n",
    "def setup_configuration(config: Dict[str, Any]) -> ConfigManager:\n",
    "    \"\"\"Setup configuration manager.\"\"\"\n",
    "    \n",
    "    if config.get(\"config_file\"):\n",
    "        config_manager = ConfigManager(config_path=config[\"config_file\"])\n",
    "    else:\n",
    "        config_manager = ConfigManager()\n",
    "\n",
    "    config_manager.update({\n",
    "        \"log_level\": config[\"log_level\"],\n",
    "        \"log_file\": config[\"log_file\"],\n",
    "        \"max_iterations\": config[\"max_iterations\"]\n",
    "    })\n",
    "\n",
    "    return config_manager\n"
   ]
  },
  {
   "cell_type": "markdown",
   "metadata": {},
   "source": [
    "## 4. Execute Analysis\n",
    "\n",
    "Now let's run the complete analysis workflow. This will:\n"
   ]
  },
  {
   "cell_type": "code",
   "execution_count": 21,
   "metadata": {},
   "outputs": [
    {
     "name": "stderr",
     "output_type": "stream",
     "text": [
      "2025-09-17 12:08:55 | INFO     | src.utils.logging_setup | Logging initialized - Level: DEBUG, File: None\n",
      "2025-09-17 12:08:55 | INFO     | pyucx_ai | PyUCX-AI Framework starting from Jupyter notebook...\n",
      "2025-09-17 12:08:55 | INFO     | src.utils.config_manager | Loaded environment variables from .env\n",
      "2025-09-17 12:08:55 | INFO     | src.utils.config_manager | Configuration loaded successfully\n",
      "2025-09-17 12:08:55 | DEBUG    | src.utils.config_manager | Configuration updated with 3 values\n",
      "2025-09-17 12:08:55 | INFO     | src.utils.config_manager | Configuration validation passed\n"
     ]
    },
    {
     "name": "stdout",
     "output_type": "stream",
     "text": [
      "🔍 Validating inputs...\n",
      "✅ Input validation passed!\n",
      "📝 Setting up logging and configuration...\n",
      "✅ Setup completed successfully!\n"
     ]
    }
   ],
   "source": [
    "# Step 1: Validate inputs\n",
    "print(\"🔍 Validating inputs...\")\n",
    "if not validate_inputs(CONFIG):\n",
    "    raise Exception(\"Input validation failed\")\n",
    "\n",
    "# Step 2: Setup logging and configuration\n",
    "print(\"📝 Setting up logging and configuration...\")\n",
    "log_level = \"DEBUG\" if CONFIG[\"verbose\"] else CONFIG[\"log_level\"]\n",
    "logger = quick_setup(log_level=log_level, log_file=CONFIG[\"log_file\"])\n",
    "logger.info(\"PyUCX-AI Framework starting from Jupyter notebook...\")\n",
    "\n",
    "config_manager = setup_configuration(CONFIG)\n",
    "if not config_manager.validate_config():\n",
    "    raise Exception(\"Configuration validation failed\")\n",
    "\n",
    "print(\"✅ Setup completed successfully!\")\n"
   ]
  },
  {
   "cell_type": "code",
   "execution_count": 22,
   "metadata": {},
   "outputs": [
    {
     "name": "stderr",
     "output_type": "stream",
     "text": [
      "2025-09-17 12:08:55 | INFO     | src.core.langgraph_framework | Loaded Python file: sales_etl_pipeline.py\n",
      "2025-09-17 12:08:55 | INFO     | src.core.langgraph_framework | Loaded Python file: analytics_dashboard.py\n",
      "2025-09-17 12:08:55 | INFO     | src.core.langgraph_framework | Loaded 2 Python files from data/sample_python_files\n",
      "2025-09-17 12:08:55 | INFO     | src.core.langgraph_framework | Loaded 20 lint issues from data/lint_outputs/sample_python_scenarios.txt\n"
     ]
    },
    {
     "name": "stdout",
     "output_type": "stream",
     "text": [
      "📂 Loading Python files and lint data...\n",
      "\n",
      "🚀 PyUCX-AI Multi-Agent Framework - Analysis Summary\n",
      "============================================================\n",
      "📁 Python files found: 2\n",
      "⚠️  Total lint issues: 20\n",
      "📄 Files with issues: 2\n",
      "\n",
      "📋 Python files to analyze:\n",
      "  - sales_etl_pipeline.py (13 code lines)\n",
      "  - analytics_dashboard.py (17 code lines)\n",
      "============================================================\n"
     ]
    }
   ],
   "source": [
    "# Step 3: Load data\n",
    "print(\"📂 Loading Python files and lint data...\")\n",
    "\n",
    "notebooks = load_python_files_from_folder(CONFIG[\"input_folder\"])\n",
    "lint_data = load_lint_data_from_file(CONFIG[\"lint_file\"])\n",
    "\n",
    "if not notebooks:\n",
    "    raise Exception(f\"No Python files found in {CONFIG['input_folder']}\")\n",
    "\n",
    "# Print summary\n",
    "total_lint_issues = sum(len(issues) for issues in lint_data.values())\n",
    "\n",
    "print(f\"\\n🚀 PyUCX-AI Multi-Agent Framework - Analysis Summary\")\n",
    "print(\"=\" * 60)\n",
    "print(f\"📁 Python files found: {len(notebooks)}\")\n",
    "print(f\"⚠️  Total lint issues: {total_lint_issues}\")\n",
    "print(f\"📄 Files with issues: {len(lint_data)}\")\n",
    "\n",
    "if notebooks:\n",
    "    print(\"\\n📋 Python files to analyze:\")\n",
    "    for nb in notebooks:\n",
    "        code_lines = nb.get('code_line_count', 0)\n",
    "        print(f\"  - {nb['filename']} ({code_lines} code lines)\")\n",
    "\n",
    "print(\"=\" * 60)\n"
   ]
  },
  {
   "cell_type": "code",
   "execution_count": 23,
   "metadata": {},
   "outputs": [
    {
     "name": "stderr",
     "output_type": "stream",
     "text": [
      "2025-09-17 12:08:55 | INFO     | src.services.schema_mapping_rag | Connected to existing collection: schema_mappings\n",
      "2025-09-17 12:08:55 | INFO     | src.services.schema_mapping_rag | Collection already has 5 mappings\n",
      "2025-09-17 12:08:55 | INFO     | src.core.langgraph_framework | RAG service initialized for dynamic catalog mapping\n",
      "2025-09-17 12:08:55 | INFO     | src.core.langgraph_framework | Checkpointer initialized with MemorySaver (in-memory storage)\n",
      "2025-09-17 12:08:55 | INFO     | src.core.langgraph_framework | Workflow compiled successfully\n"
     ]
    },
    {
     "name": "stdout",
     "output_type": "stream",
     "text": [
      "📊 Visualizing Multi-Agent Framework Graph...\n",
      "✅ Framework initialized successfully\n",
      "🎨 Generating graph visualization...\n"
     ]
    },
    {
     "data": {
      "image/jpeg": "[encoded data removed]",
      "text/plain": [
       "<IPython.core.display.Image object>"
      ]
     },
     "metadata": {},
     "output_type": "display_data"
    },
    {
     "name": "stdout",
     "output_type": "stream",
     "text": [
      "✅ Multi-agent graph visualization displayed above\n"
     ]
    }
   ],
   "source": [
    "# Step 4a: Visualize Multi-Agent Graph\n",
    "print(\"📊 Visualizing Multi-Agent Framework Graph...\")\n",
    "\n",
    "try:\n",
    "    from IPython.display import Image, display\n",
    "    \n",
    "    # Initialize framework\n",
    "    framework = PyUCXFramework(config_manager.get_all())\n",
    "    print(\"✅ Framework initialized successfully\")\n",
    "    \n",
    "    # Generate and display the graph visualization\n",
    "    print(\"🎨 Generating graph visualization...\")\n",
    "    graph_image = framework.workflow.get_graph().draw_mermaid_png()\n",
    "    display(Image(graph_image))\n",
    "    print(\"✅ Multi-agent graph visualization displayed above\")\n",
    "    \n",
    "except ImportError as e:\n",
    "    print(f\"⚠️  Warning: Could not import visualization dependencies: {e}\")\n",
    "    print(\"    The analysis will continue without graph visualization\")\n",
    "    framework = PyUCXFramework(config_manager.get_all())\n",
    "    \n",
    "except Exception as e:\n",
    "    print(f\"⚠️  Warning: Could not generate graph visualization: {e}\")\n",
    "    print(\"    The analysis will continue without graph visualization\")\n",
    "    framework = PyUCXFramework(config_manager.get_all())"
   ]
  },
  {
   "cell_type": "code",
   "execution_count": null,
   "metadata": {},
   "outputs": [
    {
     "name": "stderr",
     "output_type": "stream",
     "text": [
      "2025-09-17 12:08:55 | ERROR    | pyucx_ai | Analysis failed: 'PyUCXFramework' object has no attribute 'run_analysis'\n"
     ]
    },
    {
     "name": "stdout",
     "output_type": "stream",
     "text": [
      "🚀 Running multi-agent analysis...\n",
      "❌ Error during analysis: 'PyUCXFramework' object has no attribute 'run_analysis'\n"
     ]
    }
   ],
   "source": [
    "# Step 4b: Execute Analysis\n",
    "print(\"🚀 Running multi-agent analysis...\")\n",
    "\n",
    "try:\n",
    "    # Run the analysis workflow\n",
    "    results = framework.process_notebooks(\n",
    "        notebooks=notebooks,\n",
    "        lint_data=lint_data,\n",
    "        thread_id=CONFIG[\"thread_id\"]\n",
    "    )\n",
    "    \n",
    "    print(\"✅ Analysis completed successfully!\")\n",
    "    \n",
    "except Exception as e:\n",
    "    print(f\"❌ Error during analysis: {e}\")\n",
    "    logger.error(f\"Analysis failed: {e}\")\n",
    "    \n",
    "    # Create a failure results object for consistency\n",
    "    results = {\n",
    "        \"success\": False,\n",
    "        \"error\": str(e),\n",
    "        \"notebooks_processed\": 0,\n",
    "        \"total_notebooks\": len(notebooks),\n",
    "        \"iterations_used\": 0\n",
    "    }\n"
   ]
  },
  {
   "cell_type": "markdown",
   "metadata": {},
   "source": [
    "## 5. Results and Output\n"
   ]
  },
  {
   "cell_type": "code",
   "execution_count": 25,
   "metadata": {},
   "outputs": [
    {
     "name": "stderr",
     "output_type": "stream",
     "text": [
      "2025-09-17 12:08:55 | INFO     | src.core.langgraph_framework | Results saved to: migration_analysis_results_notebook.json\n"
     ]
    },
    {
     "name": "stdout",
     "output_type": "stream",
     "text": [
      "💾 Saving results...\n",
      "✅ Results saved to: migration_analysis_results_notebook.json\n",
      "\n",
      "📊 Analysis Results Summary\n",
      "============================================================\n",
      "❌ Status: FAILED\n",
      "📈 Notebooks processed: 0/2\n",
      "\n",
      "🔄 Iterations used: 0\n",
      "============================================================\n",
      "\n",
      "⚠️  Analysis completed with errors. Check the results for details.\n"
     ]
    }
   ],
   "source": [
    "# Step 5: Save and Display Results\n",
    "print(\"💾 Saving results...\")\n",
    "try:\n",
    "    save_results_to_file(results, CONFIG[\"output_file\"])\n",
    "    print(f\"✅ Results saved to: {CONFIG['output_file']}\")\n",
    "except Exception as e:\n",
    "    print(f\"⚠️  Warning: Could not save results to file: {e}\")\n",
    "\n",
    "# Display results summary\n",
    "success = results.get(\"success\", False)\n",
    "notebooks_processed = results.get(\"notebooks_processed\", 0)\n",
    "total_notebooks = results.get(\"total_notebooks\", 0)\n",
    "\n",
    "print(\"\\n📊 Analysis Results Summary\")\n",
    "print(\"=\" * 60)\n",
    "status_emoji = \"✅\" if success else \"❌\"\n",
    "print(f\"{status_emoji} Status: {'SUCCESS' if success else 'FAILED'}\")\n",
    "print(f\"📈 Notebooks processed: {notebooks_processed}/{total_notebooks}\")\n",
    "\n",
    "if results.get(\"analysis_results\"):\n",
    "    print(f\"🔍 Analysis results: {len(results['analysis_results'])}\")\n",
    "\n",
    "if results.get(\"migration_plans\"):\n",
    "    print(f\"📋 Migration plans created: {len(results['migration_plans'])}\")\n",
    "\n",
    "if results.get(\"code_modifications\"):\n",
    "    print(f\"🔧 Code modifications suggested: {len(results['code_modifications'])}\")\n",
    "\n",
    "if results.get(\"validation_results\"):\n",
    "    print(f\"✓ Validation checks performed: {len(results['validation_results'])}\")\n",
    "\n",
    "print(f\"\\n🔄 Iterations used: {results.get('iterations_used', 0)}\")\n",
    "print(\"=\" * 60)\n",
    "\n",
    "# Final status\n",
    "if success:\n",
    "    print(\"\\n🎉 Analysis completed successfully!\")\n",
    "    print(\"\\n📁 Check the 'output/converted_python_files/' directory for Unity Catalog compatible versions of your files.\")\n",
    "else:\n",
    "    print(\"\\n⚠️  Analysis completed with errors. Check the results for details.\")\n"
   ]
  },
  {
   "cell_type": "markdown",
   "metadata": {},
   "source": [
    "## 5. View Generated Files (Optional)\n"
   ]
  },
  {
   "cell_type": "code",
   "execution_count": 26,
   "metadata": {},
   "outputs": [
    {
     "name": "stdout",
     "output_type": "stream",
     "text": [
      "Output directory does not exist.\n"
     ]
    }
   ],
   "source": [
    "# List generated Unity Catalog files\n",
    "output_dir = Path(\"output/converted_python_files\")\n",
    "if output_dir.exists():\n",
    "    generated_files = list(output_dir.glob(\"*.py\"))\n",
    "    \n",
    "    if generated_files:\n",
    "        print(\"📁 Generated Unity Catalog compatible files:\")\n",
    "        for file in generated_files:\n",
    "            print(f\"  - {file.name}\")\n",
    "            \n",
    "        # Show sample file content\n",
    "        if len(generated_files) > 0:\n",
    "            sample_file = generated_files[0]\n",
    "            print(f\"\\n📄 Sample generated file: {sample_file.name}\")\n",
    "            print(\"=\" * 50)\n",
    "            \n",
    "            try:\n",
    "                with open(sample_file, 'r') as f:\n",
    "                    content = f.read()\n",
    "                # Show first 20 lines\n",
    "                lines = content.split('\\n')[:20]\n",
    "                for i, line in enumerate(lines, 1):\n",
    "                    print(f\"{i:2d}: {line}\")\n",
    "                if len(content.split('\\n')) > 20:\n",
    "                    print(\"... (truncated)\")\n",
    "            except Exception as e:\n",
    "                print(f\"Error reading file: {e}\")\n",
    "    else:\n",
    "        print(\"No generated files found in output directory.\")\n",
    "else:\n",
    "    print(\"Output directory does not exist.\")\n"
   ]
  },
  {
   "cell_type": "markdown",
   "metadata": {},
   "source": [
    "---\n",
    "\n",
    "## 🎯 Next Steps\n",
    "\n",
    "After running this notebook successfully:\n",
    "\n",
    "1. **Review Results**: Check the `migration_analysis_results_notebook.json` file for detailed analysis\n",
    "2. **Examine Generated Code**: Look at files in `output/converted_python_files/` directory\n",
    "3. **Implement Changes**: Use the migration plans and code suggestions to update your actual codebase\n",
    "4. **Validate**: Test the generated Unity Catalog compatible code in your environment\n",
    "\n",
    "## 🔧 Customization\n",
    "\n",
    "To customize this notebook for your specific needs:\n",
    "\n",
    "- Modify the `CONFIG` dictionary in cell 2\n",
    "- Update input folders and lint files paths\n",
    "- Adjust logging levels and output formats\n",
    "\n",
    "## 📝 Notes\n",
    "\n",
    "- Ensure your OpenAI API key is properly configured in the `.env` file\n",
    "- The analysis quality depends on the accuracy of the UCX lint data provided\n",
    "- Generated code should be reviewed and tested before production use\n"
   ]
  }
 ],
 "metadata": {
  "kernelspec": {
   "display_name": ".venv",
   "language": "python",
   "name": "python3"
  },
  "language_info": {
   "codemirror_mode": {
    "name": "ipython",
    "version": 3
   },
   "file_extension": ".py",
   "mimetype": "text/x-python",
   "name": "python",
   "nbconvert_exporter": "python",
   "pygments_lexer": "ipython3",
   "version": "3.13.7"
  }
 },
 "nbformat": 4,
 "nbformat_minor": 2
}
